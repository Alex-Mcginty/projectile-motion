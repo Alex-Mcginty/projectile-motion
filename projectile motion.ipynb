{
 "cells": [
  {
   "cell_type": "markdown",
   "metadata": {},
   "source": [
    "For Projectile motion, under the following assumptions:\n",
    "1. The only forces acting are gravity\n",
    "2. The object can be modeled as a particle\n",
    "3. The object is not being powered\n",
    "We can model the motion with the following equation.\n",
    "\n",
    "y =x$\\tan$$\\alpha$ - ($\\frac{g\\sec^2 \\alpha}{2U^2}$)$x^2$\n",
    "\n",
    "Where\n",
    " - Y is the vertcal displacement\n",
    " - X is the horizontal displacement\n",
    " - $\\alpha$ is the angle of the projectile at launc with the horizontal\n",
    " - U is the speed\n",
    " - g is the accleration due to gravity"
   ]
  },
  {
   "cell_type": "code",
   "execution_count": null,
   "metadata": {},
   "outputs": [],
   "source": []
  }
 ],
 "metadata": {
  "kernelspec": {
   "display_name": "Python 3",
   "language": "python",
   "name": "python3"
  },
  "language_info": {
   "codemirror_mode": {
    "name": "ipython",
    "version": 3
   },
   "file_extension": ".py",
   "mimetype": "text/x-python",
   "name": "python",
   "nbconvert_exporter": "python",
   "pygments_lexer": "ipython3",
   "version": "3.7.3"
  }
 },
 "nbformat": 4,
 "nbformat_minor": 2
}
