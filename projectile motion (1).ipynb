{
 "cells": [
  {
   "cell_type": "markdown",
   "metadata": {},
   "source": [
    "For Projectile motion, under the following assumptions:\n",
    "1. The only forces acting are gravity\n",
    "2. The object can be modeled as a particle\n",
    "3. The object is not being powered\n",
    "We can model the motion with the following equation.\n",
    "\n",
    "y = x$\\tan$$\\alpha$ - ($\\frac{g\\sec^2 \\alpha}{2U^2}$)$x^2$\n",
    "\n",
    "Where\n",
    " - Y is the vertcal displacement\n",
    " - X is the horizontal displacement\n",
    " - $\\alpha$ is the angle of the particle at launch with the horizontal\n",
    " - U is the speed of the particle\n",
    " - g is the accleration due to gravity"
   ]
  },
  {
   "cell_type": "code",
   "execution_count": 8,
   "metadata": {},
   "outputs": [
    {
     "ename": "SyntaxError",
     "evalue": "invalid syntax (<ipython-input-8-d0e6c9585497>, line 11)",
     "output_type": "error",
     "traceback": [
      "\u001b[1;36m  File \u001b[1;32m\"<ipython-input-8-d0e6c9585497>\"\u001b[1;36m, line \u001b[1;32m11\u001b[0m\n\u001b[1;33m    plt.plot(x, y)\u001b[0m\n\u001b[1;37m      ^\u001b[0m\n\u001b[1;31mSyntaxError\u001b[0m\u001b[1;31m:\u001b[0m invalid syntax\n"
     ]
    }
   ],
   "source": [
    "import numpy as np\n",
    "import matplotlib\n",
    "%matplotlib inline\n",
    "import matplotlib.pyplot as plt\n",
    "g = -9.81\n",
    "U = 40\n",
    "a = 30\n",
    "R = ((U**2*np.sin(2*a))/g)\n",
    "x = np.arange(0,R,1)\n",
    "y = x*np.tan(a)-((g*(1/(np.cos(a))**2)/2*U**2)*x**2\n",
    "plt.plot(x, y)\n"
   ]
  },
  {
   "cell_type": "code",
   "execution_count": null,
   "metadata": {},
   "outputs": [],
   "source": []
  },
  {
   "cell_type": "code",
   "execution_count": null,
   "metadata": {},
   "outputs": [],
   "source": []
  },
  {
   "cell_type": "code",
   "execution_count": null,
   "metadata": {},
   "outputs": [],
   "source": []
  }
 ],
 "metadata": {
  "kernelspec": {
   "display_name": "Python 3",
   "language": "python",
   "name": "python3"
  },
  "language_info": {
   "codemirror_mode": {
    "name": "ipython",
    "version": 3
   },
   "file_extension": ".py",
   "mimetype": "text/x-python",
   "name": "python",
   "nbconvert_exporter": "python",
   "pygments_lexer": "ipython3",
   "version": "3.7.3"
  }
 },
 "nbformat": 4,
 "nbformat_minor": 2
}
